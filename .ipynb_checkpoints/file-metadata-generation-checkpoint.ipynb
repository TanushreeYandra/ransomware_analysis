{
 "cells": [
  {
   "cell_type": "code",
   "execution_count": 1,
   "id": "ce93b46e",
   "metadata": {},
   "outputs": [],
   "source": [
    "import pandas as pd\n",
    "import numpy as np\n",
    "import time, math, os, glob, wget, shutil, joblib, warnings, sys\n",
    "from collections import Counter\n",
    "eps = 1e-10"
   ]
  },
  {
   "cell_type": "code",
   "execution_count": 2,
   "id": "de2da25d",
   "metadata": {},
   "outputs": [],
   "source": [
    "og_file_list = glob.glob('files_dataset/original/*')"
   ]
  },
  {
   "cell_type": "code",
   "execution_count": 14,
   "id": "12a07316",
   "metadata": {},
   "outputs": [],
   "source": [
    "enc_file_list = glob.glob('files_dataset/encrypted/*')"
   ]
  },
  {
   "cell_type": "code",
   "execution_count": 4,
   "id": "d73a4302",
   "metadata": {},
   "outputs": [],
   "source": [
    "def read_bytearray(filepath):\n",
    "    with open(filepath, mode='rb') as file:\n",
    "        byte_data = file.read()\n",
    "        return np.array(list(byte_data))"
   ]
  },
  {
   "cell_type": "code",
   "execution_count": 5,
   "id": "9288c975",
   "metadata": {},
   "outputs": [],
   "source": [
    "def array_split_given_size(a, size):\n",
    "    return np.split(a, np.arange(size,len(a),size))"
   ]
  },
  {
   "cell_type": "code",
   "execution_count": 6,
   "id": "0b41da0b",
   "metadata": {},
   "outputs": [],
   "source": [
    "def calculate_histogram(block_data):\n",
    "    counter = Counter(block_data)\n",
    "    bins = np.arange(0, 256)\n",
    "    counts = [counter[i] for i in bins]\n",
    "    assert(bins[0] == 0)\n",
    "    assert(bins[-1] == 255)\n",
    "    df = pd.DataFrame({\n",
    "        'bin': bins,\n",
    "        'count': counts,\n",
    "    })\n",
    "    df['prob'] = df['count'] / np.sum(counts)\n",
    "    df['prob'] = [np.max([eps, x]) for x in df['prob']]\n",
    "    return df"
   ]
  },
  {
   "cell_type": "code",
   "execution_count": 7,
   "id": "a078b4c1",
   "metadata": {},
   "outputs": [],
   "source": [
    "def calculate_shannon_entropy(probs):\n",
    "    return -np.sum(probs * np.log2(probs))"
   ]
  },
  {
   "cell_type": "code",
   "execution_count": 8,
   "id": "bb2a5ea7",
   "metadata": {},
   "outputs": [],
   "source": [
    "def file_metadata(filepath):\n",
    "    filesize = os.path.getsize(filepath)\n",
    "    num_blocks = math.ceil(filesize / 4096)\n",
    "    byte_array = read_bytearray(filepath)\n",
    "    assert(len(byte_array) == filesize)\n",
    "    block_datas = array_split_given_size(byte_array, 4096)\n",
    "    assert(len(block_datas) == num_blocks)\n",
    "    dfs = [calculate_histogram(block_data) for block_data in block_datas]\n",
    "    entropies = [calculate_shannon_entropy(df['prob'].tolist()) for df in dfs]\n",
    "    return filesize, np.mean(entropies)"
   ]
  },
  {
   "cell_type": "code",
   "execution_count": 9,
   "id": "3ef8b9cd",
   "metadata": {},
   "outputs": [],
   "source": [
    "file_df = pd.DataFrame(columns=['file_name','file_extension','file_size','file_entropy'])"
   ]
  },
  {
   "cell_type": "code",
   "execution_count": 15,
   "id": "950740dd",
   "metadata": {},
   "outputs": [],
   "source": [
    "enc_file_df = pd.DataFrame(columns=['file_name','file_extension','file_size','file_entropy'])"
   ]
  },
  {
   "cell_type": "code",
   "execution_count": 11,
   "id": "1d76387a",
   "metadata": {},
   "outputs": [],
   "source": [
    "for i in range(len(og_file_list)):\n",
    "    row = []\n",
    "    filepath = og_file_list[i]\n",
    "    file_name = filepath.split(\"/\")[2]\n",
    "    file_ext = file_name.split(\".\")[1]\n",
    "    file_size, file_entropy = file_metadata(filepath)\n",
    "    row.append(file_name)\n",
    "    row.append(file_ext)\n",
    "    row.append(file_size)\n",
    "    row.append(file_entropy)\n",
    "    file_df = pd.concat([file_df,pd.DataFrame([row],columns=['file_name','file_extension','file_size','file_entropy'])], ignore_index=True)\n",
    "    file_df.reset_index()"
   ]
  },
  {
   "cell_type": "code",
   "execution_count": 16,
   "id": "abb17dcf",
   "metadata": {},
   "outputs": [],
   "source": [
    "for i in range(len(enc_file_list)):\n",
    "    row = []\n",
    "    filepath = enc_file_list[i]\n",
    "    file_name = filepath.split(\"/\")[2]\n",
    "    file_ext = file_name.split(\".\")[2]\n",
    "    file_size, file_entropy = file_metadata(filepath)\n",
    "    row.append(file_name)\n",
    "    row.append(file_ext)\n",
    "    row.append(file_size)\n",
    "    row.append(file_entropy)\n",
    "    enc_file_df = pd.concat([enc_file_df,pd.DataFrame([row],columns=['file_name','file_extension','file_size','file_entropy'])], ignore_index=True)\n",
    "    enc_file_df.reset_index()"
   ]
  },
  {
   "cell_type": "code",
   "execution_count": 17,
   "id": "aaf71760",
   "metadata": {},
   "outputs": [
    {
     "data": {
      "text/html": [
       "<div>\n",
       "<style scoped>\n",
       "    .dataframe tbody tr th:only-of-type {\n",
       "        vertical-align: middle;\n",
       "    }\n",
       "\n",
       "    .dataframe tbody tr th {\n",
       "        vertical-align: top;\n",
       "    }\n",
       "\n",
       "    .dataframe thead th {\n",
       "        text-align: right;\n",
       "    }\n",
       "</style>\n",
       "<table border=\"1\" class=\"dataframe\">\n",
       "  <thead>\n",
       "    <tr style=\"text-align: right;\">\n",
       "      <th></th>\n",
       "      <th>file_name</th>\n",
       "      <th>file_extension</th>\n",
       "      <th>file_size</th>\n",
       "      <th>file_entropy</th>\n",
       "    </tr>\n",
       "  </thead>\n",
       "  <tbody>\n",
       "    <tr>\n",
       "      <th>0</th>\n",
       "      <td>069.html</td>\n",
       "      <td>html</td>\n",
       "      <td>3002</td>\n",
       "      <td>4.600665</td>\n",
       "    </tr>\n",
       "    <tr>\n",
       "      <th>1</th>\n",
       "      <td>074.txt</td>\n",
       "      <td>txt</td>\n",
       "      <td>3898</td>\n",
       "      <td>4.698261</td>\n",
       "    </tr>\n",
       "    <tr>\n",
       "      <th>2</th>\n",
       "      <td>016.png</td>\n",
       "      <td>png</td>\n",
       "      <td>466245</td>\n",
       "      <td>7.932331</td>\n",
       "    </tr>\n",
       "    <tr>\n",
       "      <th>3</th>\n",
       "      <td>017.png</td>\n",
       "      <td>png</td>\n",
       "      <td>606390</td>\n",
       "      <td>7.929483</td>\n",
       "    </tr>\n",
       "    <tr>\n",
       "      <th>4</th>\n",
       "      <td>075.txt</td>\n",
       "      <td>txt</td>\n",
       "      <td>2845</td>\n",
       "      <td>4.48729</td>\n",
       "    </tr>\n",
       "  </tbody>\n",
       "</table>\n",
       "</div>"
      ],
      "text/plain": [
       "  file_name file_extension file_size file_entropy\n",
       "0  069.html           html      3002     4.600665\n",
       "1   074.txt            txt      3898     4.698261\n",
       "2   016.png            png    466245     7.932331\n",
       "3   017.png            png    606390     7.929483\n",
       "4   075.txt            txt      2845      4.48729"
      ]
     },
     "execution_count": 17,
     "metadata": {},
     "output_type": "execute_result"
    }
   ],
   "source": [
    "file_df.head()"
   ]
  },
  {
   "cell_type": "code",
   "execution_count": 18,
   "id": "13ec6314",
   "metadata": {},
   "outputs": [
    {
     "data": {
      "text/html": [
       "<div>\n",
       "<style scoped>\n",
       "    .dataframe tbody tr th:only-of-type {\n",
       "        vertical-align: middle;\n",
       "    }\n",
       "\n",
       "    .dataframe tbody tr th {\n",
       "        vertical-align: top;\n",
       "    }\n",
       "\n",
       "    .dataframe thead th {\n",
       "        text-align: right;\n",
       "    }\n",
       "</style>\n",
       "<table border=\"1\" class=\"dataframe\">\n",
       "  <thead>\n",
       "    <tr style=\"text-align: right;\">\n",
       "      <th></th>\n",
       "      <th>file_name</th>\n",
       "      <th>file_extension</th>\n",
       "      <th>file_size</th>\n",
       "      <th>file_entropy</th>\n",
       "    </tr>\n",
       "  </thead>\n",
       "  <tbody>\n",
       "    <tr>\n",
       "      <th>0</th>\n",
       "      <td>059.html.wcry</td>\n",
       "      <td>wcry</td>\n",
       "      <td>3104</td>\n",
       "      <td>7.946005</td>\n",
       "    </tr>\n",
       "    <tr>\n",
       "      <th>1</th>\n",
       "      <td>048.pdf.wcry</td>\n",
       "      <td>wcry</td>\n",
       "      <td>3392</td>\n",
       "      <td>7.944577</td>\n",
       "    </tr>\n",
       "    <tr>\n",
       "      <th>2</th>\n",
       "      <td>049.pdf.wcry</td>\n",
       "      <td>wcry</td>\n",
       "      <td>3248</td>\n",
       "      <td>7.95383</td>\n",
       "    </tr>\n",
       "    <tr>\n",
       "      <th>3</th>\n",
       "      <td>084.doc.wcry</td>\n",
       "      <td>wcry</td>\n",
       "      <td>2000</td>\n",
       "      <td>7.903173</td>\n",
       "    </tr>\n",
       "    <tr>\n",
       "      <th>4</th>\n",
       "      <td>000.wav.wcry</td>\n",
       "      <td>wcry</td>\n",
       "      <td>1408064</td>\n",
       "      <td>7.954648</td>\n",
       "    </tr>\n",
       "  </tbody>\n",
       "</table>\n",
       "</div>"
      ],
      "text/plain": [
       "       file_name file_extension file_size file_entropy\n",
       "0  059.html.wcry           wcry      3104     7.946005\n",
       "1   048.pdf.wcry           wcry      3392     7.944577\n",
       "2   049.pdf.wcry           wcry      3248      7.95383\n",
       "3   084.doc.wcry           wcry      2000     7.903173\n",
       "4   000.wav.wcry           wcry   1408064     7.954648"
      ]
     },
     "execution_count": 18,
     "metadata": {},
     "output_type": "execute_result"
    }
   ],
   "source": [
    "enc_file_df.head()"
   ]
  },
  {
   "cell_type": "code",
   "execution_count": 19,
   "id": "b3b742ad",
   "metadata": {},
   "outputs": [],
   "source": [
    "file_df.to_csv('Original File Information.csv',index=False)\n",
    "enc_file_df.to_csv('Encrypted File Information.csv',index=False)"
   ]
  }
 ],
 "metadata": {
  "kernelspec": {
   "display_name": "Python 3 (ipykernel)",
   "language": "python",
   "name": "python3"
  },
  "language_info": {
   "codemirror_mode": {
    "name": "ipython",
    "version": 3
   },
   "file_extension": ".py",
   "mimetype": "text/x-python",
   "name": "python",
   "nbconvert_exporter": "python",
   "pygments_lexer": "ipython3",
   "version": "3.9.12"
  }
 },
 "nbformat": 4,
 "nbformat_minor": 5
}
