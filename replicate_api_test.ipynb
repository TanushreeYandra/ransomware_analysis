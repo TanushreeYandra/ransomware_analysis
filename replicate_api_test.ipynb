{
 "cells": [
  {
   "cell_type": "markdown",
   "id": "0adb1093-feb4-4398-9b86-49a81eca55cc",
   "metadata": {},
   "source": [
    "# AI-Generated Data Using Replicate API"
   ]
  },
  {
   "cell_type": "markdown",
   "id": "e6b13fe7-d3b7-43e9-bf3b-39f8c8d6793c",
   "metadata": {},
   "source": [
    "#### Installation\n",
    "\n",
    "Create Replicate account, check status of jobs etc on the Dashboard: https://replicate.com/"
   ]
  },
  {
   "cell_type": "code",
   "execution_count": 1,
   "id": "25895b11",
   "metadata": {},
   "outputs": [
    {
     "name": "stdout",
     "output_type": "stream",
     "text": [
      "Requirement already satisfied: replicate==0.15.5 in /Users/tanu/anaconda3/lib/python3.11/site-packages (0.15.5)\n",
      "Requirement already satisfied: packaging in /Users/tanu/anaconda3/lib/python3.11/site-packages (from replicate==0.15.5) (23.1)\n",
      "Requirement already satisfied: pydantic>1 in /Users/tanu/anaconda3/lib/python3.11/site-packages (from replicate==0.15.5) (1.10.8)\n",
      "Requirement already satisfied: httpx<1,>=0.21.0 in /Users/tanu/anaconda3/lib/python3.11/site-packages (from replicate==0.15.5) (0.25.1)\n",
      "Requirement already satisfied: anyio in /Users/tanu/anaconda3/lib/python3.11/site-packages (from httpx<1,>=0.21.0->replicate==0.15.5) (3.5.0)\n",
      "Requirement already satisfied: certifi in /Users/tanu/anaconda3/lib/python3.11/site-packages (from httpx<1,>=0.21.0->replicate==0.15.5) (2023.7.22)\n",
      "Requirement already satisfied: httpcore in /Users/tanu/anaconda3/lib/python3.11/site-packages (from httpx<1,>=0.21.0->replicate==0.15.5) (1.0.1)\n",
      "Requirement already satisfied: idna in /Users/tanu/anaconda3/lib/python3.11/site-packages (from httpx<1,>=0.21.0->replicate==0.15.5) (3.4)\n",
      "Requirement already satisfied: sniffio in /Users/tanu/anaconda3/lib/python3.11/site-packages (from httpx<1,>=0.21.0->replicate==0.15.5) (1.2.0)\n",
      "Requirement already satisfied: typing-extensions>=4.2.0 in /Users/tanu/anaconda3/lib/python3.11/site-packages (from pydantic>1->replicate==0.15.5) (4.7.1)\n",
      "Requirement already satisfied: h11<0.15,>=0.13 in /Users/tanu/anaconda3/lib/python3.11/site-packages (from httpcore->httpx<1,>=0.21.0->replicate==0.15.5) (0.14.0)\n",
      "Requirement already satisfied: ipython-autotime in /Users/tanu/anaconda3/lib/python3.11/site-packages (0.3.2)\n",
      "Requirement already satisfied: ipython in /Users/tanu/anaconda3/lib/python3.11/site-packages (from ipython-autotime) (8.15.0)\n",
      "Requirement already satisfied: backcall in /Users/tanu/anaconda3/lib/python3.11/site-packages (from ipython->ipython-autotime) (0.2.0)\n",
      "Requirement already satisfied: decorator in /Users/tanu/anaconda3/lib/python3.11/site-packages (from ipython->ipython-autotime) (5.1.1)\n",
      "Requirement already satisfied: jedi>=0.16 in /Users/tanu/anaconda3/lib/python3.11/site-packages (from ipython->ipython-autotime) (0.18.1)\n",
      "Requirement already satisfied: matplotlib-inline in /Users/tanu/anaconda3/lib/python3.11/site-packages (from ipython->ipython-autotime) (0.1.6)\n",
      "Requirement already satisfied: pickleshare in /Users/tanu/anaconda3/lib/python3.11/site-packages (from ipython->ipython-autotime) (0.7.5)\n",
      "Requirement already satisfied: prompt-toolkit!=3.0.37,<3.1.0,>=3.0.30 in /Users/tanu/anaconda3/lib/python3.11/site-packages (from ipython->ipython-autotime) (3.0.36)\n",
      "Requirement already satisfied: pygments>=2.4.0 in /Users/tanu/anaconda3/lib/python3.11/site-packages (from ipython->ipython-autotime) (2.15.1)\n",
      "Requirement already satisfied: stack-data in /Users/tanu/anaconda3/lib/python3.11/site-packages (from ipython->ipython-autotime) (0.2.0)\n",
      "Requirement already satisfied: traitlets>=5 in /Users/tanu/anaconda3/lib/python3.11/site-packages (from ipython->ipython-autotime) (5.7.1)\n",
      "Requirement already satisfied: pexpect>4.3 in /Users/tanu/anaconda3/lib/python3.11/site-packages (from ipython->ipython-autotime) (4.8.0)\n",
      "Requirement already satisfied: appnope in /Users/tanu/anaconda3/lib/python3.11/site-packages (from ipython->ipython-autotime) (0.1.2)\n",
      "Requirement already satisfied: parso<0.9.0,>=0.8.0 in /Users/tanu/anaconda3/lib/python3.11/site-packages (from jedi>=0.16->ipython->ipython-autotime) (0.8.3)\n",
      "Requirement already satisfied: ptyprocess>=0.5 in /Users/tanu/anaconda3/lib/python3.11/site-packages (from pexpect>4.3->ipython->ipython-autotime) (0.7.0)\n",
      "Requirement already satisfied: wcwidth in /Users/tanu/anaconda3/lib/python3.11/site-packages (from prompt-toolkit!=3.0.37,<3.1.0,>=3.0.30->ipython->ipython-autotime) (0.2.5)\n",
      "Requirement already satisfied: executing in /Users/tanu/anaconda3/lib/python3.11/site-packages (from stack-data->ipython->ipython-autotime) (0.8.3)\n",
      "Requirement already satisfied: asttokens in /Users/tanu/anaconda3/lib/python3.11/site-packages (from stack-data->ipython->ipython-autotime) (2.0.5)\n",
      "Requirement already satisfied: pure-eval in /Users/tanu/anaconda3/lib/python3.11/site-packages (from stack-data->ipython->ipython-autotime) (0.2.2)\n",
      "Requirement already satisfied: six in /Users/tanu/anaconda3/lib/python3.11/site-packages (from asttokens->stack-data->ipython->ipython-autotime) (1.16.0)\n"
     ]
    }
   ],
   "source": [
    "!pip install replicate==0.15.5\n",
    "!pip install ipython-autotime\n",
    "# run this command in terminal before launching this notebook\n",
    "#!export REPLICATE_API_TOKEN=\"r8_QwJg65myol6cBI3v8zJ5bxx27MLw19Y32vsPv\"\n",
    "!export REPLICATE_API_TOKEN=\"r8_KkzwCQQSTsoYKpiJh8Dz5mFZvtdrctj31WNtM\""
   ]
  },
  {
   "cell_type": "code",
   "execution_count": 2,
   "id": "118ef80b-3e9d-416d-89fb-7addb2eb8b82",
   "metadata": {},
   "outputs": [
    {
     "name": "stdout",
     "output_type": "stream",
     "text": [
      "time: 94.8 µs (started: 2024-01-17 18:41:20 -08:00)\n"
     ]
    }
   ],
   "source": [
    "import replicate, time, requests, os\n",
    "from IPython.display import Image, Audio\n",
    "import random\n",
    "%load_ext autotime"
   ]
  },
  {
   "cell_type": "markdown",
   "id": "115b5399-d0d3-464e-a15b-a7fd2ca28e28",
   "metadata": {},
   "source": [
    "## Text Generation"
   ]
  },
  {
   "cell_type": "markdown",
   "id": "b161d433-34c3-441f-a8d8-369e4a24758e",
   "metadata": {},
   "source": [
    "Replicate supports a large number of language models, check them out here: https://replicate.com/collections/language-models\n",
    "\n",
    "Copy the model name and versions below and run the query.\n",
    "\n",
    "__TODO__: Find out why is the output cut off?"
   ]
  },
  {
   "cell_type": "code",
   "execution_count": 13,
   "id": "41588153-4091-4d3b-a6ca-9ccca9a3c233",
   "metadata": {},
   "outputs": [
    {
     "name": "stdout",
     "output_type": "stream",
     "text": [
      "Of course! Here are ten log entry objects using the provided JSON structure:\n",
      "\n",
      "1. {\"id\": 1, \"time\": \"2023-03-14T13:20:30Z\", \"uid\": \"user1\", \"ip_add\": \"192.168.1.1\", \"type\": \"file_accessed\", \"file_size\": 1024}\n",
      "2. {\"id\": 2, \"time\": \"2023-03-14T13:25:00Z\", \"uid\": \"user2\", \"ip_add\": \"172.16.1.1\", \"type\": \"file_deleted\", \"file_size\": 512}\n",
      "3. {\"id\": 3, \"time\": \"2023-03-14T13:30:30Z\", \"uid\": \"admin\", \"ip_add\": \"::1\", \"type\": \"file_rewritten\", \"file_size\": 2048}\n",
      "4. {\"id\": 4, \"time\": \"2023-03-14T13:35:00Z\", \"uid\": \"user3\", \"ip_add\": \"10.0.0.1\", \"type\": \"file_ accessed\", \"file_size\": 8192}\n",
      "5. {\"id\": 5, \"time\": \"2023-03-14T13:40:30Z\", \"uid\": \"user4\", \"ip_add\": \"192.168.2.1\", \"type\": \"file_modified\", \"file_size\": 4096}\n",
      "6. {\"id\": 6, \"time\": \"2023-03-14T13:45:00Z\", \"uid\": \"user5\", \"ip_add\": \"fe80::/120\", \"type\": \"file_created\", \"file_size\": 1048576}\n",
      "7. {\"id\": 7, \"time\": \"2023-03-14T13:50:30Z\", \"uid\": \"user6\", \"ip_add\": \"203.0.1.1\", \"type\": \"file_moved\", \"file_size\": 524288}\n",
      "8. {\"id\": 8, \"time\": \"2023-03-14T13:55:00Z\", \"uid\": \"user7\", \"ip_add\": \"10.0.0.2\", \"type\": \"file_copied\", \"file_size\": 2048}\n",
      "9. {\"id\": 9, \"time\": \"2023-03-14T14:00:30Z\", \"uid\": \"user8\", \"ip_add\": \"192.168.3.1\", \"type\": \"file_renamed\", \"file_size\": 1024}\n",
      "10. {\"id\": 10, \"time\": \"2023-03-14T14:05:00Z\", \"uid\": \"user9\", \"ip_add\": \"::1/128\", \"type\": \"file_Deleted\", \"file_size\": 1048576}\n",
      "\n",
      "Please let me know if you need any additional help!\n",
      "time: 8.56 s (started: 2023-12-29 17:13:24 -08:00)\n"
     ]
    }
   ],
   "source": [
    "#replicate = replicate.Client(api_token=\"r8_QwJg65myol6cBI3v8zJ5bxx27MLw19Y32vsPv\")\n",
    "model = replicate.models.get(\"meta/llama-2-7b-chat\")\n",
    "version = model.versions.get(\"13c3cdee13ee059ab779f0291d29054dab00a47dad8261375654de5540165fb0\")\n",
    "\n",
    "prediction = replicate.predictions.create(version=version,\n",
    "    input={\"prompt\":\"Generate 10 objects describing a single log entry using \\the following JSON structure\\\n",
    "\\\"{\\\"id\\\": Integer,\\\"time\\\": String,\\\"uid\\\": string,\\\"ip add\\\": String,\\\"type\\\": String,\\\n",
    "\\\"file size\\\": float}\\\n",
    "           Ensure that the id starts at 1 and icnreases by 1 for each entry\\\n",
    "           Ensure that the ip add is a valid IP Address\\\n",
    "           Choose the type from this list : [file_accessed, file_deleted, file_rewritten]\\\n",
    "           Ensure that the time is of the format YYYY:MM:DD HH:MM:SS\\\"\", \"max_new_tokens\": 1000})\n",
    "\n",
    "predictions = replicate.predictions.list()\n",
    "\n",
    "while prediction.status != 'succeeded':\n",
    "    time.sleep(1)\n",
    "    prediction.reload()\n",
    "print(''.join(prediction.output))"
   ]
  },
  {
   "cell_type": "code",
   "execution_count": 14,
   "id": "db0957a4",
   "metadata": {},
   "outputs": [
    {
     "name": "stdout",
     "output_type": "stream",
     "text": [
      "Of course! Ransomware has a fascinating and somewhat disturbing history, here's a brief summary:\n",
      "\n",
      "1. Early Origins (1980s-1990s): The concept of ransomware can be traced back to the early days of computer programming, when hackers would create and release malicious programs as pranks or acts of vandalism. These early examples were often simple viruses that could delete files or crash\n",
      "time: 3.04 s (started: 2023-11-09 12:27:02 -08:00)\n"
     ]
    }
   ],
   "source": [
    "model = replicate.models.get(\"meta/llama-2-7b-chat\")\n",
    "version = model.versions.get(\"13c3cdee13ee059ab779f0291d29054dab00a47dad8261375654de5540165fb0\")\n",
    "\n",
    "prediction = replicate.predictions.create(version=version,\n",
    "    input={\"prompt\":\"Summarize the history of ransomware\", \"max_new_tokens\": 100})\n",
    "\n",
    "predictions = replicate.predictions.list()\n",
    "\n",
    "while prediction.status != 'succeeded':\n",
    "    time.sleep(1)\n",
    "    prediction.reload()\n",
    "print(''.join(prediction.output))"
   ]
  },
  {
   "cell_type": "code",
   "execution_count": 17,
   "id": "16354177",
   "metadata": {},
   "outputs": [
    {
     "name": "stdout",
     "output_type": "stream",
     "text": [
      "time: 410 µs (started: 2023-11-09 12:28:55 -08:00)\n"
     ]
    }
   ],
   "source": [
    "text_output = ''.join(prediction.output)"
   ]
  },
  {
   "cell_type": "code",
   "execution_count": 18,
   "id": "84d9d471",
   "metadata": {},
   "outputs": [
    {
     "name": "stdout",
     "output_type": "stream",
     "text": [
      "time: 994 µs (started: 2023-11-09 12:30:00 -08:00)\n"
     ]
    }
   ],
   "source": [
    "def save_url_text(text_output, save_filepath):\n",
    "    text_data = text_output\n",
    "    with open(save_filepath, 'wb') as handler:\n",
    "        handler.write(text_data)\n",
    "    return os.path.exists(save_filepath)"
   ]
  },
  {
   "cell_type": "code",
   "execution_count": 22,
   "id": "13bdff6f",
   "metadata": {},
   "outputs": [
    {
     "name": "stdout",
     "output_type": "stream",
     "text": [
      "time: 1.34 ms (started: 2023-11-09 12:32:13 -08:00)\n"
     ]
    }
   ],
   "source": [
    "save_filepath = str(abs(hash(\"Summarize the history of ransomware\"))) + '.txt'\n",
    "with open(save_filepath, 'w') as file:\n",
    "    file.write(text_output)"
   ]
  },
  {
   "cell_type": "code",
   "execution_count": 24,
   "id": "bc88913b",
   "metadata": {},
   "outputs": [
    {
     "name": "stdout",
     "output_type": "stream",
     "text": [
      "time: 1.77 ms (started: 2023-11-09 12:33:31 -08:00)\n"
     ]
    }
   ],
   "source": [
    "save_filepath = str(abs(hash(\"Summarize the history of ransomware\"))) + '.txt.zip'\n",
    "with open(save_filepath, 'w') as file:\n",
    "    file.write(text_output)"
   ]
  },
  {
   "cell_type": "code",
   "execution_count": 20,
   "id": "aecd83ce",
   "metadata": {},
   "outputs": [
    {
     "data": {
      "text/plain": [
       "'5519081959625167382.txt'"
      ]
     },
     "execution_count": 20,
     "metadata": {},
     "output_type": "execute_result"
    },
    {
     "name": "stdout",
     "output_type": "stream",
     "text": [
      "time: 3.96 ms (started: 2023-11-09 12:31:15 -08:00)\n"
     ]
    }
   ],
   "source": [
    "save_filepath"
   ]
  },
  {
   "cell_type": "markdown",
   "id": "fdfdea6a-1aaa-4344-b280-c587fc1049a5",
   "metadata": {},
   "source": [
    "## Image Generation Using Stable Diffusion "
   ]
  },
  {
   "cell_type": "markdown",
   "id": "18bd33ea-dadf-4be9-b58c-4418393b54b2",
   "metadata": {},
   "source": [
    "#### Stable Diffusion 1.5\n",
    "\n",
    "An earlier version of stable diffusion trained on smaller images (512*512). Generation times are much faster. "
   ]
  },
  {
   "cell_type": "code",
   "execution_count": 3,
   "id": "4aa4d4f2-319c-4c31-bb20-c211ea491e0b",
   "metadata": {},
   "outputs": [
    {
     "name": "stdout",
     "output_type": "stream",
     "text": [
      "time: 3.06 ms (started: 2023-12-29 16:51:21 -08:00)\n"
     ]
    }
   ],
   "source": [
    "def save_url_image(image_url, save_filepath='output.png'):\n",
    "    img_data = requests.get(image_url).content\n",
    "    with open(save_filepath, 'wb') as handler:\n",
    "        handler.write(img_data)\n",
    "    return os.path.exists(save_filepath)\n",
    "    "
   ]
  },
  {
   "cell_type": "code",
   "execution_count": 9,
   "id": "ae95804f-1cad-455e-a3f3-73339764d330",
   "metadata": {},
   "outputs": [
    {
     "data": {
      "text/html": [
       "<img src=\"https://replicate.delivery/pbxt/fD7OLhISVYXcKyuW8SSUCP9NJMGF7BRHiec7q1VsiNRJ6RHSA/out-0.png\"/>"
      ],
      "text/plain": [
       "<IPython.core.display.Image object>"
      ]
     },
     "execution_count": 9,
     "metadata": {},
     "output_type": "execute_result"
    },
    {
     "name": "stdout",
     "output_type": "stream",
     "text": [
      "time: 5.11 s (started: 2023-12-29 17:04:05 -08:00)\n"
     ]
    }
   ],
   "source": [
    "#replicate = replicate.Client(api_token=\"r8_QwJg65myol6cBI3v8zJ5bxx27MLw19Y32vsPv\")\n",
    "version = \"stability-ai/stable-diffusion:27b93a2413e7f36cd83da926f3656280b2931564ff050bf9575f1fdf9bcd7478\"\n",
    "\n",
    "query = \"Photo of a rainbow in a beautiful countryside\"\n",
    "\n",
    "image_url = replicate.run(version,\n",
    "        input={\"prompt\": query}\n",
    ")[0]\n",
    "\n",
    "# save as local image\n",
    "save_filepath = str(abs(hash(query))) + '.bmp'\n",
    "save_url_image(image_url, save_filepath)\n",
    "\n",
    "# display image\n",
    "Image(url=image_url)"
   ]
  },
  {
   "cell_type": "markdown",
   "id": "b2477ed4-a2fa-42e7-8aec-526f20fb5b15",
   "metadata": {},
   "source": [
    "#### Stable Diffusion XL\n",
    "\n",
    "Latest version of SD. Generation times are slower but generated images are of higher quality."
   ]
  },
  {
   "cell_type": "code",
   "execution_count": 7,
   "id": "78284cb0-6e5c-4e44-a274-7d028a5b819f",
   "metadata": {},
   "outputs": [
    {
     "data": {
      "text/html": [
       "<img src=\"https://replicate.delivery/pbxt/1rCJIjwl47oSIVH0DqdbSB3xYySwQaZT7Hjg29Od7CSNnrdE/out-0.png\"/>"
      ],
      "text/plain": [
       "<IPython.core.display.Image object>"
      ]
     },
     "execution_count": 7,
     "metadata": {},
     "output_type": "execute_result"
    },
    {
     "name": "stdout",
     "output_type": "stream",
     "text": [
      "time: 13.9 s (started: 2023-11-09 11:38:17 -08:00)\n"
     ]
    }
   ],
   "source": [
    "version=\"stability-ai/sdxl:2a865c9a94c9992b6689365b75db2d678d5022505ed3f63a5f53929a31a46947\"\n",
    "\n",
    "query = \"Picture of Eath from Moon\"\n",
    "\n",
    "image_url = replicate.run(version,\n",
    "        input={\"prompt\": query}\n",
    ")[0]\n",
    "# save as local image\n",
    "save_filepath = str(abs(hash(query))) + '.png'\n",
    "save_url_image(image_url, save_filepath)\n",
    "\n",
    "# display image\n",
    "Image(url=image_url)\n"
   ]
  },
  {
   "cell_type": "markdown",
   "id": "06a2d75f-49d2-42ec-a14e-39b35c8e45c9",
   "metadata": {},
   "source": [
    "## Audio Generation\n",
    "\n",
    "Examples: https://replicate.com/collections/audio-generation"
   ]
  },
  {
   "cell_type": "markdown",
   "id": "9ab88a5d-aaa1-45f8-8c17-fa284c6fc9e0",
   "metadata": {},
   "source": [
    "API Reference: https://replicate.com/meta/musicgen/api?tab=node"
   ]
  },
  {
   "cell_type": "markdown",
   "id": "b1845e5f",
   "metadata": {},
   "source": [
    "### 1. Generate .wav files"
   ]
  },
  {
   "cell_type": "code",
   "execution_count": 3,
   "id": "6361980c",
   "metadata": {},
   "outputs": [
    {
     "name": "stdout",
     "output_type": "stream",
     "text": [
      "time: 836 µs (started: 2024-01-17 18:42:00 -08:00)\n"
     ]
    }
   ],
   "source": [
    "audio_file_names = [\n",
    "    \"HarmonyEcho\",\n",
    "    \"QuantumVibes\",\n",
    "    \"ElectricDreams\",\n",
    "    \"CelestialPulse\",\n",
    "    \"MidnightWhisper\",\n",
    "    \"LunarSerendipity\",\n",
    "    \"NeonRhapsody\",\n",
    "    \"EnigmaHarbor\",\n",
    "    \"StellarSerenade\",\n",
    "    \"CrystalCascade\"]"
   ]
  },
  {
   "cell_type": "code",
   "execution_count": 4,
   "id": "6c562d46",
   "metadata": {},
   "outputs": [
    {
     "ename": "ReplicateError",
     "evalue": "You have reached the free time limit. To continue using Replicate, set up billing at https://replicate.com/account/billing#billing.",
     "output_type": "error",
     "traceback": [
      "\u001b[0;31m---------------------------------------------------------------------------\u001b[0m",
      "\u001b[0;31mReplicateError\u001b[0m                            Traceback (most recent call last)",
      "Cell \u001b[0;32mIn[4], line 8\u001b[0m\n\u001b[1;32m      6\u001b[0m \u001b[38;5;28;01mfor\u001b[39;00m audio_file_name \u001b[38;5;129;01min\u001b[39;00m audio_file_names:\n\u001b[1;32m      7\u001b[0m     duration \u001b[38;5;241m=\u001b[39m random\u001b[38;5;241m.\u001b[39mrandint(\u001b[38;5;241m5\u001b[39m, \u001b[38;5;241m30\u001b[39m)\n\u001b[0;32m----> 8\u001b[0m     audio_output \u001b[38;5;241m=\u001b[39m replicate\u001b[38;5;241m.\u001b[39mrun(version,\n\u001b[1;32m      9\u001b[0m       \u001b[38;5;28minput\u001b[39m\u001b[38;5;241m=\u001b[39m{\n\u001b[1;32m     10\u001b[0m         \u001b[38;5;124m\"\u001b[39m\u001b[38;5;124mseed\u001b[39m\u001b[38;5;124m\"\u001b[39m: \u001b[38;5;241m3442726813\u001b[39m,\n\u001b[1;32m     11\u001b[0m         \u001b[38;5;124m\"\u001b[39m\u001b[38;5;124mtop_k\u001b[39m\u001b[38;5;124m\"\u001b[39m: \u001b[38;5;241m250\u001b[39m,\n\u001b[1;32m     12\u001b[0m         \u001b[38;5;124m\"\u001b[39m\u001b[38;5;124mtop_p\u001b[39m\u001b[38;5;124m\"\u001b[39m: \u001b[38;5;241m0\u001b[39m,\n\u001b[1;32m     13\u001b[0m         \u001b[38;5;124m\"\u001b[39m\u001b[38;5;124mprompt\u001b[39m\u001b[38;5;124m\"\u001b[39m: prompt,\n\u001b[1;32m     14\u001b[0m         \u001b[38;5;124m\"\u001b[39m\u001b[38;5;124mduration\u001b[39m\u001b[38;5;124m\"\u001b[39m: duration,\n\u001b[1;32m     15\u001b[0m         \u001b[38;5;124m\"\u001b[39m\u001b[38;5;124mtemperature\u001b[39m\u001b[38;5;124m\"\u001b[39m: \u001b[38;5;241m1\u001b[39m,\n\u001b[1;32m     16\u001b[0m         \u001b[38;5;124m\"\u001b[39m\u001b[38;5;124mcontinuation\u001b[39m\u001b[38;5;124m\"\u001b[39m: \u001b[38;5;28;01mFalse\u001b[39;00m,\n\u001b[1;32m     17\u001b[0m         \u001b[38;5;124m\"\u001b[39m\u001b[38;5;124mmodel_version\u001b[39m\u001b[38;5;124m\"\u001b[39m: \u001b[38;5;124m\"\u001b[39m\u001b[38;5;124mlarge\u001b[39m\u001b[38;5;124m\"\u001b[39m,\n\u001b[1;32m     18\u001b[0m         \u001b[38;5;124m\"\u001b[39m\u001b[38;5;124moutput_format\u001b[39m\u001b[38;5;124m\"\u001b[39m: \u001b[38;5;124m\"\u001b[39m\u001b[38;5;124mwav\u001b[39m\u001b[38;5;124m\"\u001b[39m,\n\u001b[1;32m     19\u001b[0m         \u001b[38;5;124m\"\u001b[39m\u001b[38;5;124mcontinuation_end\u001b[39m\u001b[38;5;124m\"\u001b[39m: \u001b[38;5;241m9\u001b[39m,\n\u001b[1;32m     20\u001b[0m         \u001b[38;5;124m\"\u001b[39m\u001b[38;5;124mcontinuation_start\u001b[39m\u001b[38;5;124m\"\u001b[39m: \u001b[38;5;241m7\u001b[39m,\n\u001b[1;32m     21\u001b[0m         \u001b[38;5;124m\"\u001b[39m\u001b[38;5;124mnormalization_strategy\u001b[39m\u001b[38;5;124m\"\u001b[39m: \u001b[38;5;124m\"\u001b[39m\u001b[38;5;124mpeak\u001b[39m\u001b[38;5;124m\"\u001b[39m,\n\u001b[1;32m     22\u001b[0m         \u001b[38;5;124m\"\u001b[39m\u001b[38;5;124mclassifier_free_guidance\u001b[39m\u001b[38;5;124m\"\u001b[39m: \u001b[38;5;241m3\u001b[39m\n\u001b[1;32m     23\u001b[0m       }\n\u001b[1;32m     24\u001b[0m     )\n\u001b[1;32m     25\u001b[0m     Audio(audio_output, rate\u001b[38;5;241m=\u001b[39m\u001b[38;5;241m22050\u001b[39m)\n\u001b[1;32m     27\u001b[0m     file_name \u001b[38;5;241m=\u001b[39m audio_file_name \u001b[38;5;241m+\u001b[39m \u001b[38;5;124m'\u001b[39m\u001b[38;5;124m.wav\u001b[39m\u001b[38;5;124m'\u001b[39m\n",
      "File \u001b[0;32m~/anaconda3/lib/python3.11/site-packages/replicate/client.py:124\u001b[0m, in \u001b[0;36mClient.run\u001b[0;34m(self, model_version, **kwargs)\u001b[0m\n\u001b[1;32m    121\u001b[0m name \u001b[38;5;241m=\u001b[39m match\u001b[38;5;241m.\u001b[39mgroup(\u001b[38;5;124m\"\u001b[39m\u001b[38;5;124mname\u001b[39m\u001b[38;5;124m\"\u001b[39m)\n\u001b[1;32m    122\u001b[0m version_id \u001b[38;5;241m=\u001b[39m match\u001b[38;5;241m.\u001b[39mgroup(\u001b[38;5;124m\"\u001b[39m\u001b[38;5;124mversion\u001b[39m\u001b[38;5;124m\"\u001b[39m)\n\u001b[0;32m--> 124\u001b[0m prediction \u001b[38;5;241m=\u001b[39m \u001b[38;5;28mself\u001b[39m\u001b[38;5;241m.\u001b[39mpredictions\u001b[38;5;241m.\u001b[39mcreate(version\u001b[38;5;241m=\u001b[39mversion_id, \u001b[38;5;241m*\u001b[39m\u001b[38;5;241m*\u001b[39mkwargs)\n\u001b[1;32m    126\u001b[0m \u001b[38;5;28;01mif\u001b[39;00m owner \u001b[38;5;129;01mand\u001b[39;00m name:\n\u001b[1;32m    127\u001b[0m     \u001b[38;5;66;03m# FIXME: There should be a method for fetching a version without first fetching its model\u001b[39;00m\n\u001b[1;32m    128\u001b[0m     resp \u001b[38;5;241m=\u001b[39m \u001b[38;5;28mself\u001b[39m\u001b[38;5;241m.\u001b[39m_request(\n\u001b[1;32m    129\u001b[0m         \u001b[38;5;124m\"\u001b[39m\u001b[38;5;124mGET\u001b[39m\u001b[38;5;124m\"\u001b[39m, \u001b[38;5;124mf\u001b[39m\u001b[38;5;124m\"\u001b[39m\u001b[38;5;124m/v1/models/\u001b[39m\u001b[38;5;132;01m{\u001b[39;00mowner\u001b[38;5;132;01m}\u001b[39;00m\u001b[38;5;124m/\u001b[39m\u001b[38;5;132;01m{\u001b[39;00mname\u001b[38;5;132;01m}\u001b[39;00m\u001b[38;5;124m/versions/\u001b[39m\u001b[38;5;132;01m{\u001b[39;00mversion_id\u001b[38;5;132;01m}\u001b[39;00m\u001b[38;5;124m\"\u001b[39m\n\u001b[1;32m    130\u001b[0m     )\n",
      "File \u001b[0;32m~/anaconda3/lib/python3.11/site-packages/replicate/prediction.py:210\u001b[0m, in \u001b[0;36mPredictionCollection.create\u001b[0;34m(self, version, input, webhook, webhook_completed, webhook_events_filter, stream, **kwargs)\u001b[0m\n\u001b[1;32m    207\u001b[0m \u001b[38;5;28;01mif\u001b[39;00m stream \u001b[38;5;129;01mis\u001b[39;00m \u001b[38;5;28;01mTrue\u001b[39;00m:\n\u001b[1;32m    208\u001b[0m     body[\u001b[38;5;124m\"\u001b[39m\u001b[38;5;124mstream\u001b[39m\u001b[38;5;124m\"\u001b[39m] \u001b[38;5;241m=\u001b[39m \u001b[38;5;28;01mTrue\u001b[39;00m\n\u001b[0;32m--> 210\u001b[0m resp \u001b[38;5;241m=\u001b[39m \u001b[38;5;28mself\u001b[39m\u001b[38;5;241m.\u001b[39m_client\u001b[38;5;241m.\u001b[39m_request(\n\u001b[1;32m    211\u001b[0m     \u001b[38;5;124m\"\u001b[39m\u001b[38;5;124mPOST\u001b[39m\u001b[38;5;124m\"\u001b[39m,\n\u001b[1;32m    212\u001b[0m     \u001b[38;5;124m\"\u001b[39m\u001b[38;5;124m/v1/predictions\u001b[39m\u001b[38;5;124m\"\u001b[39m,\n\u001b[1;32m    213\u001b[0m     json\u001b[38;5;241m=\u001b[39mbody,\n\u001b[1;32m    214\u001b[0m )\n\u001b[1;32m    215\u001b[0m obj \u001b[38;5;241m=\u001b[39m resp\u001b[38;5;241m.\u001b[39mjson()\n\u001b[1;32m    216\u001b[0m \u001b[38;5;28;01mif\u001b[39;00m \u001b[38;5;28misinstance\u001b[39m(version, Version):\n",
      "File \u001b[0;32m~/anaconda3/lib/python3.11/site-packages/replicate/client.py:81\u001b[0m, in \u001b[0;36mClient._request\u001b[0;34m(self, method, path, **kwargs)\u001b[0m\n\u001b[1;32m     78\u001b[0m resp \u001b[38;5;241m=\u001b[39m \u001b[38;5;28mself\u001b[39m\u001b[38;5;241m.\u001b[39m_client\u001b[38;5;241m.\u001b[39mrequest(method, path, \u001b[38;5;241m*\u001b[39m\u001b[38;5;241m*\u001b[39mkwargs)\n\u001b[1;32m     80\u001b[0m \u001b[38;5;28;01mif\u001b[39;00m \u001b[38;5;241m400\u001b[39m \u001b[38;5;241m<\u001b[39m\u001b[38;5;241m=\u001b[39m resp\u001b[38;5;241m.\u001b[39mstatus_code \u001b[38;5;241m<\u001b[39m \u001b[38;5;241m600\u001b[39m:\n\u001b[0;32m---> 81\u001b[0m     \u001b[38;5;28;01mraise\u001b[39;00m ReplicateError(resp\u001b[38;5;241m.\u001b[39mjson()[\u001b[38;5;124m\"\u001b[39m\u001b[38;5;124mdetail\u001b[39m\u001b[38;5;124m\"\u001b[39m])\n\u001b[1;32m     83\u001b[0m \u001b[38;5;28;01mreturn\u001b[39;00m resp\n",
      "\u001b[0;31mReplicateError\u001b[0m: You have reached the free time limit. To continue using Replicate, set up billing at https://replicate.com/account/billing#billing."
     ]
    },
    {
     "name": "stdout",
     "output_type": "stream",
     "text": [
      "time: 10min 25s (started: 2024-01-17 18:42:03 -08:00)\n"
     ]
    }
   ],
   "source": [
    "replicate = replicate.Client(api_token=\"r8_KkzwCQQSTsoYKpiJh8Dz5mFZvtdrctj31WNtM\")\n",
    "version = \"meta/musicgen:7a76a8258b23fae65c5a22debb8841d1d7e816b75c2f24218cd2bd8573787906\"\n",
    "\n",
    "prompt = \"Generate random melody.\"\n",
    "\n",
    "for audio_file_name in audio_file_names:\n",
    "    duration = random.randint(5, 30)\n",
    "    audio_output = replicate.run(version,\n",
    "      input={\n",
    "        \"seed\": 3442726813,\n",
    "        \"top_k\": 250,\n",
    "        \"top_p\": 0,\n",
    "        \"prompt\": prompt,\n",
    "        \"duration\": duration,\n",
    "        \"temperature\": 1,\n",
    "        \"continuation\": False,\n",
    "        \"model_version\": \"large\",\n",
    "        \"output_format\": \"wav\",\n",
    "        \"continuation_end\": 9,\n",
    "        \"continuation_start\": 7,\n",
    "        \"normalization_strategy\": \"peak\",\n",
    "        \"classifier_free_guidance\": 3\n",
    "      }\n",
    "    )\n",
    "    Audio(audio_output, rate=22050)\n",
    "    \n",
    "    file_name = audio_file_name + '.wav'\n",
    "\n",
    "    with open(f'''audio/{file_name}''', 'wb') as f:\n",
    "        f.write(Audio(audio_output, rate=22050).data)"
   ]
  },
  {
   "cell_type": "markdown",
   "id": "d828667f",
   "metadata": {},
   "source": [
    "### 2. Generate .mp3 files"
   ]
  },
  {
   "cell_type": "code",
   "execution_count": null,
   "id": "700f94e5",
   "metadata": {},
   "outputs": [],
   "source": [
    "audio_file_names = [\n",
    "    \"SonicHorizon\",\n",
    "    \"EchoDunes\",\n",
    "    \"VelvetAurora\",\n",
    "    \"RadiantReverie\",\n",
    "    \"SolarFlare\",\n",
    "    \"TechnoTwilight\",\n",
    "    \"SkylineSymphony\",\n",
    "    \"PsychedelicPulse\",\n",
    "    \"CyberspaceChronicle\",\n",
    "    \"EtherealExpanse\"]"
   ]
  },
  {
   "cell_type": "code",
   "execution_count": null,
   "id": "2b6b4434",
   "metadata": {},
   "outputs": [],
   "source": [
    "#replicate = replicate.Client(api_token=\"r8_QwJg65myol6cBI3v8zJ5bxx27MLw19Y32vsPv\")\n",
    "version = \"meta/musicgen:7a76a8258b23fae65c5a22debb8841d1d7e816b75c2f24218cd2bd8573787906\"\n",
    "\n",
    "prompt = \"Generate random melodies.\"\n",
    "\n",
    "for audio_file_name in audio_file_names:\n",
    "    duration = random.randint(5, 30)\n",
    "    audio_output = replicate.run(version,\n",
    "      input={\n",
    "        \"seed\": 3442726813,\n",
    "        \"top_k\": 250,\n",
    "        \"top_p\": 0,\n",
    "        \"prompt\": prompt,\n",
    "        \"duration\": duration,\n",
    "        \"temperature\": 1,\n",
    "        \"continuation\": False,\n",
    "        \"model_version\": \"large\",\n",
    "        \"output_format\": \"wav\",\n",
    "        \"continuation_end\": 9,\n",
    "        \"continuation_start\": 7,\n",
    "        \"normalization_strategy\": \"peak\",\n",
    "        \"classifier_free_guidance\": 3\n",
    "      }\n",
    "    )\n",
    "    Audio(audio_output, rate=22050)\n",
    "    \n",
    "    file_name = audio_file_name + '.mp3'\n",
    "\n",
    "    with open(f'''audio/{file_name}''', 'wb') as f:\n",
    "        f.write(Audio(audio_output, rate=22050).data)"
   ]
  },
  {
   "cell_type": "markdown",
   "id": "f42bda30",
   "metadata": {},
   "source": [
    "### 3. Generate .aac files"
   ]
  },
  {
   "cell_type": "code",
   "execution_count": null,
   "id": "26a62702",
   "metadata": {},
   "outputs": [],
   "source": [
    "audio_file_names = [\n",
    "    \"SereneCanyon\",\n",
    "    \"InfinityJourney\",\n",
    "    \"VirtualHarbor\",\n",
    "    \"ZenithZephyr\",\n",
    "    \"MistyMeadow\",\n",
    "    \"EphemeralEssence\",\n",
    "    \"GalacticGrove\",\n",
    "    \"EchoingEden\",\n",
    "    \"PulseOfPanorama\",\n",
    "    \"TranquilTrance\"]"
   ]
  },
  {
   "cell_type": "code",
   "execution_count": 18,
   "id": "af721a46",
   "metadata": {},
   "outputs": [
    {
     "ename": "ReplicateError",
     "evalue": "You have reached the free time limit. To continue using Replicate, set up billing at https://replicate.com/account/billing#billing.",
     "output_type": "error",
     "traceback": [
      "\u001b[0;31m---------------------------------------------------------------------------\u001b[0m",
      "\u001b[0;31mReplicateError\u001b[0m                            Traceback (most recent call last)",
      "Cell \u001b[0;32mIn[18], line 8\u001b[0m\n\u001b[1;32m      6\u001b[0m \u001b[38;5;28;01mfor\u001b[39;00m audio_file_name \u001b[38;5;129;01min\u001b[39;00m audio_file_names:\n\u001b[1;32m      7\u001b[0m     duration \u001b[38;5;241m=\u001b[39m random\u001b[38;5;241m.\u001b[39mrandint(\u001b[38;5;241m5\u001b[39m, \u001b[38;5;241m30\u001b[39m)\n\u001b[0;32m----> 8\u001b[0m     audio_output \u001b[38;5;241m=\u001b[39m replicate\u001b[38;5;241m.\u001b[39mrun(version,\n\u001b[1;32m      9\u001b[0m       \u001b[38;5;28minput\u001b[39m\u001b[38;5;241m=\u001b[39m{\n\u001b[1;32m     10\u001b[0m         \u001b[38;5;124m\"\u001b[39m\u001b[38;5;124mseed\u001b[39m\u001b[38;5;124m\"\u001b[39m: \u001b[38;5;241m3442726813\u001b[39m,\n\u001b[1;32m     11\u001b[0m         \u001b[38;5;124m\"\u001b[39m\u001b[38;5;124mtop_k\u001b[39m\u001b[38;5;124m\"\u001b[39m: \u001b[38;5;241m250\u001b[39m,\n\u001b[1;32m     12\u001b[0m         \u001b[38;5;124m\"\u001b[39m\u001b[38;5;124mtop_p\u001b[39m\u001b[38;5;124m\"\u001b[39m: \u001b[38;5;241m0\u001b[39m,\n\u001b[1;32m     13\u001b[0m         \u001b[38;5;124m\"\u001b[39m\u001b[38;5;124mprompt\u001b[39m\u001b[38;5;124m\"\u001b[39m: prompt,\n\u001b[1;32m     14\u001b[0m         \u001b[38;5;124m\"\u001b[39m\u001b[38;5;124mduration\u001b[39m\u001b[38;5;124m\"\u001b[39m: duration,\n\u001b[1;32m     15\u001b[0m         \u001b[38;5;124m\"\u001b[39m\u001b[38;5;124mtemperature\u001b[39m\u001b[38;5;124m\"\u001b[39m: \u001b[38;5;241m1\u001b[39m,\n\u001b[1;32m     16\u001b[0m         \u001b[38;5;124m\"\u001b[39m\u001b[38;5;124mcontinuation\u001b[39m\u001b[38;5;124m\"\u001b[39m: \u001b[38;5;28;01mFalse\u001b[39;00m,\n\u001b[1;32m     17\u001b[0m         \u001b[38;5;124m\"\u001b[39m\u001b[38;5;124mmodel_version\u001b[39m\u001b[38;5;124m\"\u001b[39m: \u001b[38;5;124m\"\u001b[39m\u001b[38;5;124mlarge\u001b[39m\u001b[38;5;124m\"\u001b[39m,\n\u001b[1;32m     18\u001b[0m         \u001b[38;5;124m\"\u001b[39m\u001b[38;5;124moutput_format\u001b[39m\u001b[38;5;124m\"\u001b[39m: \u001b[38;5;124m\"\u001b[39m\u001b[38;5;124mwav\u001b[39m\u001b[38;5;124m\"\u001b[39m,\n\u001b[1;32m     19\u001b[0m         \u001b[38;5;124m\"\u001b[39m\u001b[38;5;124mcontinuation_end\u001b[39m\u001b[38;5;124m\"\u001b[39m: \u001b[38;5;241m9\u001b[39m,\n\u001b[1;32m     20\u001b[0m         \u001b[38;5;124m\"\u001b[39m\u001b[38;5;124mcontinuation_start\u001b[39m\u001b[38;5;124m\"\u001b[39m: \u001b[38;5;241m7\u001b[39m,\n\u001b[1;32m     21\u001b[0m         \u001b[38;5;124m\"\u001b[39m\u001b[38;5;124mnormalization_strategy\u001b[39m\u001b[38;5;124m\"\u001b[39m: \u001b[38;5;124m\"\u001b[39m\u001b[38;5;124mpeak\u001b[39m\u001b[38;5;124m\"\u001b[39m,\n\u001b[1;32m     22\u001b[0m         \u001b[38;5;124m\"\u001b[39m\u001b[38;5;124mclassifier_free_guidance\u001b[39m\u001b[38;5;124m\"\u001b[39m: \u001b[38;5;241m3\u001b[39m\n\u001b[1;32m     23\u001b[0m       }\n\u001b[1;32m     24\u001b[0m     )\n\u001b[1;32m     25\u001b[0m     Audio(audio_output, rate\u001b[38;5;241m=\u001b[39m\u001b[38;5;241m22050\u001b[39m)\n\u001b[1;32m     27\u001b[0m     file_name \u001b[38;5;241m=\u001b[39m audio_file_name \u001b[38;5;241m+\u001b[39m \u001b[38;5;124m'\u001b[39m\u001b[38;5;124m.mp3\u001b[39m\u001b[38;5;124m'\u001b[39m\n",
      "File \u001b[0;32m~/anaconda3/lib/python3.11/site-packages/replicate/client.py:124\u001b[0m, in \u001b[0;36mClient.run\u001b[0;34m(self, model_version, **kwargs)\u001b[0m\n\u001b[1;32m    121\u001b[0m name \u001b[38;5;241m=\u001b[39m match\u001b[38;5;241m.\u001b[39mgroup(\u001b[38;5;124m\"\u001b[39m\u001b[38;5;124mname\u001b[39m\u001b[38;5;124m\"\u001b[39m)\n\u001b[1;32m    122\u001b[0m version_id \u001b[38;5;241m=\u001b[39m match\u001b[38;5;241m.\u001b[39mgroup(\u001b[38;5;124m\"\u001b[39m\u001b[38;5;124mversion\u001b[39m\u001b[38;5;124m\"\u001b[39m)\n\u001b[0;32m--> 124\u001b[0m prediction \u001b[38;5;241m=\u001b[39m \u001b[38;5;28mself\u001b[39m\u001b[38;5;241m.\u001b[39mpredictions\u001b[38;5;241m.\u001b[39mcreate(version\u001b[38;5;241m=\u001b[39mversion_id, \u001b[38;5;241m*\u001b[39m\u001b[38;5;241m*\u001b[39mkwargs)\n\u001b[1;32m    126\u001b[0m \u001b[38;5;28;01mif\u001b[39;00m owner \u001b[38;5;129;01mand\u001b[39;00m name:\n\u001b[1;32m    127\u001b[0m     \u001b[38;5;66;03m# FIXME: There should be a method for fetching a version without first fetching its model\u001b[39;00m\n\u001b[1;32m    128\u001b[0m     resp \u001b[38;5;241m=\u001b[39m \u001b[38;5;28mself\u001b[39m\u001b[38;5;241m.\u001b[39m_request(\n\u001b[1;32m    129\u001b[0m         \u001b[38;5;124m\"\u001b[39m\u001b[38;5;124mGET\u001b[39m\u001b[38;5;124m\"\u001b[39m, \u001b[38;5;124mf\u001b[39m\u001b[38;5;124m\"\u001b[39m\u001b[38;5;124m/v1/models/\u001b[39m\u001b[38;5;132;01m{\u001b[39;00mowner\u001b[38;5;132;01m}\u001b[39;00m\u001b[38;5;124m/\u001b[39m\u001b[38;5;132;01m{\u001b[39;00mname\u001b[38;5;132;01m}\u001b[39;00m\u001b[38;5;124m/versions/\u001b[39m\u001b[38;5;132;01m{\u001b[39;00mversion_id\u001b[38;5;132;01m}\u001b[39;00m\u001b[38;5;124m\"\u001b[39m\n\u001b[1;32m    130\u001b[0m     )\n",
      "File \u001b[0;32m~/anaconda3/lib/python3.11/site-packages/replicate/prediction.py:210\u001b[0m, in \u001b[0;36mPredictionCollection.create\u001b[0;34m(self, version, input, webhook, webhook_completed, webhook_events_filter, stream, **kwargs)\u001b[0m\n\u001b[1;32m    207\u001b[0m \u001b[38;5;28;01mif\u001b[39;00m stream \u001b[38;5;129;01mis\u001b[39;00m \u001b[38;5;28;01mTrue\u001b[39;00m:\n\u001b[1;32m    208\u001b[0m     body[\u001b[38;5;124m\"\u001b[39m\u001b[38;5;124mstream\u001b[39m\u001b[38;5;124m\"\u001b[39m] \u001b[38;5;241m=\u001b[39m \u001b[38;5;28;01mTrue\u001b[39;00m\n\u001b[0;32m--> 210\u001b[0m resp \u001b[38;5;241m=\u001b[39m \u001b[38;5;28mself\u001b[39m\u001b[38;5;241m.\u001b[39m_client\u001b[38;5;241m.\u001b[39m_request(\n\u001b[1;32m    211\u001b[0m     \u001b[38;5;124m\"\u001b[39m\u001b[38;5;124mPOST\u001b[39m\u001b[38;5;124m\"\u001b[39m,\n\u001b[1;32m    212\u001b[0m     \u001b[38;5;124m\"\u001b[39m\u001b[38;5;124m/v1/predictions\u001b[39m\u001b[38;5;124m\"\u001b[39m,\n\u001b[1;32m    213\u001b[0m     json\u001b[38;5;241m=\u001b[39mbody,\n\u001b[1;32m    214\u001b[0m )\n\u001b[1;32m    215\u001b[0m obj \u001b[38;5;241m=\u001b[39m resp\u001b[38;5;241m.\u001b[39mjson()\n\u001b[1;32m    216\u001b[0m \u001b[38;5;28;01mif\u001b[39;00m \u001b[38;5;28misinstance\u001b[39m(version, Version):\n",
      "File \u001b[0;32m~/anaconda3/lib/python3.11/site-packages/replicate/client.py:81\u001b[0m, in \u001b[0;36mClient._request\u001b[0;34m(self, method, path, **kwargs)\u001b[0m\n\u001b[1;32m     78\u001b[0m resp \u001b[38;5;241m=\u001b[39m \u001b[38;5;28mself\u001b[39m\u001b[38;5;241m.\u001b[39m_client\u001b[38;5;241m.\u001b[39mrequest(method, path, \u001b[38;5;241m*\u001b[39m\u001b[38;5;241m*\u001b[39mkwargs)\n\u001b[1;32m     80\u001b[0m \u001b[38;5;28;01mif\u001b[39;00m \u001b[38;5;241m400\u001b[39m \u001b[38;5;241m<\u001b[39m\u001b[38;5;241m=\u001b[39m resp\u001b[38;5;241m.\u001b[39mstatus_code \u001b[38;5;241m<\u001b[39m \u001b[38;5;241m600\u001b[39m:\n\u001b[0;32m---> 81\u001b[0m     \u001b[38;5;28;01mraise\u001b[39;00m ReplicateError(resp\u001b[38;5;241m.\u001b[39mjson()[\u001b[38;5;124m\"\u001b[39m\u001b[38;5;124mdetail\u001b[39m\u001b[38;5;124m\"\u001b[39m])\n\u001b[1;32m     83\u001b[0m \u001b[38;5;28;01mreturn\u001b[39;00m resp\n",
      "\u001b[0;31mReplicateError\u001b[0m: You have reached the free time limit. To continue using Replicate, set up billing at https://replicate.com/account/billing#billing."
     ]
    },
    {
     "name": "stdout",
     "output_type": "stream",
     "text": [
      "time: 5min 27s (started: 2024-01-17 18:30:25 -08:00)\n"
     ]
    }
   ],
   "source": [
    "replicate = replicate.Client(api_token=\"r8_QwJg65myol6cBI3v8zJ5bxx27MLw19Y32vsPv\")\n",
    "version = \"meta/musicgen:7a76a8258b23fae65c5a22debb8841d1d7e816b75c2f24218cd2bd8573787906\"\n",
    "\n",
    "prompt = \"Generate random melodies.\"\n",
    "\n",
    "for audio_file_name in audio_file_names:\n",
    "    duration = random.randint(5, 30)\n",
    "    audio_output = replicate.run(version,\n",
    "      input={\n",
    "        \"seed\": 3442726813,\n",
    "        \"top_k\": 250,\n",
    "        \"top_p\": 0,\n",
    "        \"prompt\": prompt,\n",
    "        \"duration\": duration,\n",
    "        \"temperature\": 1,\n",
    "        \"continuation\": False,\n",
    "        \"model_version\": \"large\",\n",
    "        \"output_format\": \"wav\",\n",
    "        \"continuation_end\": 9,\n",
    "        \"continuation_start\": 7,\n",
    "        \"normalization_strategy\": \"peak\",\n",
    "        \"classifier_free_guidance\": 3\n",
    "      }\n",
    "    )\n",
    "    Audio(audio_output, rate=22050)\n",
    "    \n",
    "    file_name = audio_file_name + '.aac'\n",
    "\n",
    "    with open(f'''audio/{file_name}''', 'wb') as f:\n",
    "        f.write(Audio(audio_output, rate=22050).data)"
   ]
  },
  {
   "cell_type": "markdown",
   "id": "0ed72e7f",
   "metadata": {},
   "source": [
    "### 4. Generate .flac files"
   ]
  },
  {
   "cell_type": "code",
   "execution_count": null,
   "id": "b586c97a",
   "metadata": {},
   "outputs": [],
   "source": [
    "audio_file_names = [\n",
    "    \"RadiantReflection\",\n",
    "    \"CelestialCatalyst\",\n",
    "    \"NebulaNectar\",\n",
    "    \"QuantumQuasar\",\n",
    "    \"VelvetVortex\",\n",
    "    \"SolarSymphony\",\n",
    "    \"EnigmaticEcho\",\n",
    "    \"AmbientAurora\",\n",
    "    \"EtherealEclipse\",\n",
    "    \"SonicSanctuary\"]"
   ]
  },
  {
   "cell_type": "code",
   "execution_count": 18,
   "id": "16ec9a9e",
   "metadata": {},
   "outputs": [
    {
     "ename": "ReplicateError",
     "evalue": "You have reached the free time limit. To continue using Replicate, set up billing at https://replicate.com/account/billing#billing.",
     "output_type": "error",
     "traceback": [
      "\u001b[0;31m---------------------------------------------------------------------------\u001b[0m",
      "\u001b[0;31mReplicateError\u001b[0m                            Traceback (most recent call last)",
      "Cell \u001b[0;32mIn[18], line 8\u001b[0m\n\u001b[1;32m      6\u001b[0m \u001b[38;5;28;01mfor\u001b[39;00m audio_file_name \u001b[38;5;129;01min\u001b[39;00m audio_file_names:\n\u001b[1;32m      7\u001b[0m     duration \u001b[38;5;241m=\u001b[39m random\u001b[38;5;241m.\u001b[39mrandint(\u001b[38;5;241m5\u001b[39m, \u001b[38;5;241m30\u001b[39m)\n\u001b[0;32m----> 8\u001b[0m     audio_output \u001b[38;5;241m=\u001b[39m replicate\u001b[38;5;241m.\u001b[39mrun(version,\n\u001b[1;32m      9\u001b[0m       \u001b[38;5;28minput\u001b[39m\u001b[38;5;241m=\u001b[39m{\n\u001b[1;32m     10\u001b[0m         \u001b[38;5;124m\"\u001b[39m\u001b[38;5;124mseed\u001b[39m\u001b[38;5;124m\"\u001b[39m: \u001b[38;5;241m3442726813\u001b[39m,\n\u001b[1;32m     11\u001b[0m         \u001b[38;5;124m\"\u001b[39m\u001b[38;5;124mtop_k\u001b[39m\u001b[38;5;124m\"\u001b[39m: \u001b[38;5;241m250\u001b[39m,\n\u001b[1;32m     12\u001b[0m         \u001b[38;5;124m\"\u001b[39m\u001b[38;5;124mtop_p\u001b[39m\u001b[38;5;124m\"\u001b[39m: \u001b[38;5;241m0\u001b[39m,\n\u001b[1;32m     13\u001b[0m         \u001b[38;5;124m\"\u001b[39m\u001b[38;5;124mprompt\u001b[39m\u001b[38;5;124m\"\u001b[39m: prompt,\n\u001b[1;32m     14\u001b[0m         \u001b[38;5;124m\"\u001b[39m\u001b[38;5;124mduration\u001b[39m\u001b[38;5;124m\"\u001b[39m: duration,\n\u001b[1;32m     15\u001b[0m         \u001b[38;5;124m\"\u001b[39m\u001b[38;5;124mtemperature\u001b[39m\u001b[38;5;124m\"\u001b[39m: \u001b[38;5;241m1\u001b[39m,\n\u001b[1;32m     16\u001b[0m         \u001b[38;5;124m\"\u001b[39m\u001b[38;5;124mcontinuation\u001b[39m\u001b[38;5;124m\"\u001b[39m: \u001b[38;5;28;01mFalse\u001b[39;00m,\n\u001b[1;32m     17\u001b[0m         \u001b[38;5;124m\"\u001b[39m\u001b[38;5;124mmodel_version\u001b[39m\u001b[38;5;124m\"\u001b[39m: \u001b[38;5;124m\"\u001b[39m\u001b[38;5;124mlarge\u001b[39m\u001b[38;5;124m\"\u001b[39m,\n\u001b[1;32m     18\u001b[0m         \u001b[38;5;124m\"\u001b[39m\u001b[38;5;124moutput_format\u001b[39m\u001b[38;5;124m\"\u001b[39m: \u001b[38;5;124m\"\u001b[39m\u001b[38;5;124mwav\u001b[39m\u001b[38;5;124m\"\u001b[39m,\n\u001b[1;32m     19\u001b[0m         \u001b[38;5;124m\"\u001b[39m\u001b[38;5;124mcontinuation_end\u001b[39m\u001b[38;5;124m\"\u001b[39m: \u001b[38;5;241m9\u001b[39m,\n\u001b[1;32m     20\u001b[0m         \u001b[38;5;124m\"\u001b[39m\u001b[38;5;124mcontinuation_start\u001b[39m\u001b[38;5;124m\"\u001b[39m: \u001b[38;5;241m7\u001b[39m,\n\u001b[1;32m     21\u001b[0m         \u001b[38;5;124m\"\u001b[39m\u001b[38;5;124mnormalization_strategy\u001b[39m\u001b[38;5;124m\"\u001b[39m: \u001b[38;5;124m\"\u001b[39m\u001b[38;5;124mpeak\u001b[39m\u001b[38;5;124m\"\u001b[39m,\n\u001b[1;32m     22\u001b[0m         \u001b[38;5;124m\"\u001b[39m\u001b[38;5;124mclassifier_free_guidance\u001b[39m\u001b[38;5;124m\"\u001b[39m: \u001b[38;5;241m3\u001b[39m\n\u001b[1;32m     23\u001b[0m       }\n\u001b[1;32m     24\u001b[0m     )\n\u001b[1;32m     25\u001b[0m     Audio(audio_output, rate\u001b[38;5;241m=\u001b[39m\u001b[38;5;241m22050\u001b[39m)\n\u001b[1;32m     27\u001b[0m     file_name \u001b[38;5;241m=\u001b[39m audio_file_name \u001b[38;5;241m+\u001b[39m \u001b[38;5;124m'\u001b[39m\u001b[38;5;124m.mp3\u001b[39m\u001b[38;5;124m'\u001b[39m\n",
      "File \u001b[0;32m~/anaconda3/lib/python3.11/site-packages/replicate/client.py:124\u001b[0m, in \u001b[0;36mClient.run\u001b[0;34m(self, model_version, **kwargs)\u001b[0m\n\u001b[1;32m    121\u001b[0m name \u001b[38;5;241m=\u001b[39m match\u001b[38;5;241m.\u001b[39mgroup(\u001b[38;5;124m\"\u001b[39m\u001b[38;5;124mname\u001b[39m\u001b[38;5;124m\"\u001b[39m)\n\u001b[1;32m    122\u001b[0m version_id \u001b[38;5;241m=\u001b[39m match\u001b[38;5;241m.\u001b[39mgroup(\u001b[38;5;124m\"\u001b[39m\u001b[38;5;124mversion\u001b[39m\u001b[38;5;124m\"\u001b[39m)\n\u001b[0;32m--> 124\u001b[0m prediction \u001b[38;5;241m=\u001b[39m \u001b[38;5;28mself\u001b[39m\u001b[38;5;241m.\u001b[39mpredictions\u001b[38;5;241m.\u001b[39mcreate(version\u001b[38;5;241m=\u001b[39mversion_id, \u001b[38;5;241m*\u001b[39m\u001b[38;5;241m*\u001b[39mkwargs)\n\u001b[1;32m    126\u001b[0m \u001b[38;5;28;01mif\u001b[39;00m owner \u001b[38;5;129;01mand\u001b[39;00m name:\n\u001b[1;32m    127\u001b[0m     \u001b[38;5;66;03m# FIXME: There should be a method for fetching a version without first fetching its model\u001b[39;00m\n\u001b[1;32m    128\u001b[0m     resp \u001b[38;5;241m=\u001b[39m \u001b[38;5;28mself\u001b[39m\u001b[38;5;241m.\u001b[39m_request(\n\u001b[1;32m    129\u001b[0m         \u001b[38;5;124m\"\u001b[39m\u001b[38;5;124mGET\u001b[39m\u001b[38;5;124m\"\u001b[39m, \u001b[38;5;124mf\u001b[39m\u001b[38;5;124m\"\u001b[39m\u001b[38;5;124m/v1/models/\u001b[39m\u001b[38;5;132;01m{\u001b[39;00mowner\u001b[38;5;132;01m}\u001b[39;00m\u001b[38;5;124m/\u001b[39m\u001b[38;5;132;01m{\u001b[39;00mname\u001b[38;5;132;01m}\u001b[39;00m\u001b[38;5;124m/versions/\u001b[39m\u001b[38;5;132;01m{\u001b[39;00mversion_id\u001b[38;5;132;01m}\u001b[39;00m\u001b[38;5;124m\"\u001b[39m\n\u001b[1;32m    130\u001b[0m     )\n",
      "File \u001b[0;32m~/anaconda3/lib/python3.11/site-packages/replicate/prediction.py:210\u001b[0m, in \u001b[0;36mPredictionCollection.create\u001b[0;34m(self, version, input, webhook, webhook_completed, webhook_events_filter, stream, **kwargs)\u001b[0m\n\u001b[1;32m    207\u001b[0m \u001b[38;5;28;01mif\u001b[39;00m stream \u001b[38;5;129;01mis\u001b[39;00m \u001b[38;5;28;01mTrue\u001b[39;00m:\n\u001b[1;32m    208\u001b[0m     body[\u001b[38;5;124m\"\u001b[39m\u001b[38;5;124mstream\u001b[39m\u001b[38;5;124m\"\u001b[39m] \u001b[38;5;241m=\u001b[39m \u001b[38;5;28;01mTrue\u001b[39;00m\n\u001b[0;32m--> 210\u001b[0m resp \u001b[38;5;241m=\u001b[39m \u001b[38;5;28mself\u001b[39m\u001b[38;5;241m.\u001b[39m_client\u001b[38;5;241m.\u001b[39m_request(\n\u001b[1;32m    211\u001b[0m     \u001b[38;5;124m\"\u001b[39m\u001b[38;5;124mPOST\u001b[39m\u001b[38;5;124m\"\u001b[39m,\n\u001b[1;32m    212\u001b[0m     \u001b[38;5;124m\"\u001b[39m\u001b[38;5;124m/v1/predictions\u001b[39m\u001b[38;5;124m\"\u001b[39m,\n\u001b[1;32m    213\u001b[0m     json\u001b[38;5;241m=\u001b[39mbody,\n\u001b[1;32m    214\u001b[0m )\n\u001b[1;32m    215\u001b[0m obj \u001b[38;5;241m=\u001b[39m resp\u001b[38;5;241m.\u001b[39mjson()\n\u001b[1;32m    216\u001b[0m \u001b[38;5;28;01mif\u001b[39;00m \u001b[38;5;28misinstance\u001b[39m(version, Version):\n",
      "File \u001b[0;32m~/anaconda3/lib/python3.11/site-packages/replicate/client.py:81\u001b[0m, in \u001b[0;36mClient._request\u001b[0;34m(self, method, path, **kwargs)\u001b[0m\n\u001b[1;32m     78\u001b[0m resp \u001b[38;5;241m=\u001b[39m \u001b[38;5;28mself\u001b[39m\u001b[38;5;241m.\u001b[39m_client\u001b[38;5;241m.\u001b[39mrequest(method, path, \u001b[38;5;241m*\u001b[39m\u001b[38;5;241m*\u001b[39mkwargs)\n\u001b[1;32m     80\u001b[0m \u001b[38;5;28;01mif\u001b[39;00m \u001b[38;5;241m400\u001b[39m \u001b[38;5;241m<\u001b[39m\u001b[38;5;241m=\u001b[39m resp\u001b[38;5;241m.\u001b[39mstatus_code \u001b[38;5;241m<\u001b[39m \u001b[38;5;241m600\u001b[39m:\n\u001b[0;32m---> 81\u001b[0m     \u001b[38;5;28;01mraise\u001b[39;00m ReplicateError(resp\u001b[38;5;241m.\u001b[39mjson()[\u001b[38;5;124m\"\u001b[39m\u001b[38;5;124mdetail\u001b[39m\u001b[38;5;124m\"\u001b[39m])\n\u001b[1;32m     83\u001b[0m \u001b[38;5;28;01mreturn\u001b[39;00m resp\n",
      "\u001b[0;31mReplicateError\u001b[0m: You have reached the free time limit. To continue using Replicate, set up billing at https://replicate.com/account/billing#billing."
     ]
    },
    {
     "name": "stdout",
     "output_type": "stream",
     "text": [
      "time: 5min 27s (started: 2024-01-17 18:30:25 -08:00)\n"
     ]
    }
   ],
   "source": [
    "replicate = replicate.Client(api_token=\"r8_QwJg65myol6cBI3v8zJ5bxx27MLw19Y32vsPv\")\n",
    "version = \"meta/musicgen:7a76a8258b23fae65c5a22debb8841d1d7e816b75c2f24218cd2bd8573787906\"\n",
    "\n",
    "prompt = \"Generate random melodies.\"\n",
    "\n",
    "for audio_file_name in audio_file_names:\n",
    "    duration = random.randint(5, 30)\n",
    "    audio_output = replicate.run(version,\n",
    "      input={\n",
    "        \"seed\": 3442726813,\n",
    "        \"top_k\": 250,\n",
    "        \"top_p\": 0,\n",
    "        \"prompt\": prompt,\n",
    "        \"duration\": duration,\n",
    "        \"temperature\": 1,\n",
    "        \"continuation\": False,\n",
    "        \"model_version\": \"large\",\n",
    "        \"output_format\": \"wav\",\n",
    "        \"continuation_end\": 9,\n",
    "        \"continuation_start\": 7,\n",
    "        \"normalization_strategy\": \"peak\",\n",
    "        \"classifier_free_guidance\": 3\n",
    "      }\n",
    "    )\n",
    "    Audio(audio_output, rate=22050)\n",
    "    \n",
    "    file_name = audio_file_name + '.flac'\n",
    "\n",
    "    with open(f'''audio/{file_name}''', 'wb') as f:\n",
    "        f.write(Audio(audio_output, rate=22050).data)"
   ]
  },
  {
   "cell_type": "markdown",
   "id": "b41a8ab9",
   "metadata": {},
   "source": [
    "### 5. Generate .m4a files"
   ]
  },
  {
   "cell_type": "code",
   "execution_count": 13,
   "id": "65d273f7",
   "metadata": {},
   "outputs": [
    {
     "name": "stdout",
     "output_type": "stream",
     "text": [
      "time: 2.24 ms (started: 2024-01-17 18:26:58 -08:00)\n"
     ]
    }
   ],
   "source": [
    "audio_file_names = [\n",
    "    \"CrystalCrescendo\",\n",
    "    \"LuminousLagoon\",\n",
    "    \"EchoicEmpyrean\",\n",
    "    \"MysticalMomentum\",\n",
    "    \"NebulaNest\",\n",
    "    \"MidnightMelody\",\n",
    "    \"HarmonyHaven\",\n",
    "    \"CelestialCalm\",\n",
    "    \"LunarLullaby\",\n",
    "    \"SonicShore\"]"
   ]
  },
  {
   "cell_type": "code",
   "execution_count": 18,
   "id": "b6c926d3-4dc7-4d85-8680-6c9a1133663e",
   "metadata": {},
   "outputs": [
    {
     "ename": "ReplicateError",
     "evalue": "You have reached the free time limit. To continue using Replicate, set up billing at https://replicate.com/account/billing#billing.",
     "output_type": "error",
     "traceback": [
      "\u001b[0;31m---------------------------------------------------------------------------\u001b[0m",
      "\u001b[0;31mReplicateError\u001b[0m                            Traceback (most recent call last)",
      "Cell \u001b[0;32mIn[18], line 8\u001b[0m\n\u001b[1;32m      6\u001b[0m \u001b[38;5;28;01mfor\u001b[39;00m audio_file_name \u001b[38;5;129;01min\u001b[39;00m audio_file_names:\n\u001b[1;32m      7\u001b[0m     duration \u001b[38;5;241m=\u001b[39m random\u001b[38;5;241m.\u001b[39mrandint(\u001b[38;5;241m5\u001b[39m, \u001b[38;5;241m30\u001b[39m)\n\u001b[0;32m----> 8\u001b[0m     audio_output \u001b[38;5;241m=\u001b[39m replicate\u001b[38;5;241m.\u001b[39mrun(version,\n\u001b[1;32m      9\u001b[0m       \u001b[38;5;28minput\u001b[39m\u001b[38;5;241m=\u001b[39m{\n\u001b[1;32m     10\u001b[0m         \u001b[38;5;124m\"\u001b[39m\u001b[38;5;124mseed\u001b[39m\u001b[38;5;124m\"\u001b[39m: \u001b[38;5;241m3442726813\u001b[39m,\n\u001b[1;32m     11\u001b[0m         \u001b[38;5;124m\"\u001b[39m\u001b[38;5;124mtop_k\u001b[39m\u001b[38;5;124m\"\u001b[39m: \u001b[38;5;241m250\u001b[39m,\n\u001b[1;32m     12\u001b[0m         \u001b[38;5;124m\"\u001b[39m\u001b[38;5;124mtop_p\u001b[39m\u001b[38;5;124m\"\u001b[39m: \u001b[38;5;241m0\u001b[39m,\n\u001b[1;32m     13\u001b[0m         \u001b[38;5;124m\"\u001b[39m\u001b[38;5;124mprompt\u001b[39m\u001b[38;5;124m\"\u001b[39m: prompt,\n\u001b[1;32m     14\u001b[0m         \u001b[38;5;124m\"\u001b[39m\u001b[38;5;124mduration\u001b[39m\u001b[38;5;124m\"\u001b[39m: duration,\n\u001b[1;32m     15\u001b[0m         \u001b[38;5;124m\"\u001b[39m\u001b[38;5;124mtemperature\u001b[39m\u001b[38;5;124m\"\u001b[39m: \u001b[38;5;241m1\u001b[39m,\n\u001b[1;32m     16\u001b[0m         \u001b[38;5;124m\"\u001b[39m\u001b[38;5;124mcontinuation\u001b[39m\u001b[38;5;124m\"\u001b[39m: \u001b[38;5;28;01mFalse\u001b[39;00m,\n\u001b[1;32m     17\u001b[0m         \u001b[38;5;124m\"\u001b[39m\u001b[38;5;124mmodel_version\u001b[39m\u001b[38;5;124m\"\u001b[39m: \u001b[38;5;124m\"\u001b[39m\u001b[38;5;124mlarge\u001b[39m\u001b[38;5;124m\"\u001b[39m,\n\u001b[1;32m     18\u001b[0m         \u001b[38;5;124m\"\u001b[39m\u001b[38;5;124moutput_format\u001b[39m\u001b[38;5;124m\"\u001b[39m: \u001b[38;5;124m\"\u001b[39m\u001b[38;5;124mwav\u001b[39m\u001b[38;5;124m\"\u001b[39m,\n\u001b[1;32m     19\u001b[0m         \u001b[38;5;124m\"\u001b[39m\u001b[38;5;124mcontinuation_end\u001b[39m\u001b[38;5;124m\"\u001b[39m: \u001b[38;5;241m9\u001b[39m,\n\u001b[1;32m     20\u001b[0m         \u001b[38;5;124m\"\u001b[39m\u001b[38;5;124mcontinuation_start\u001b[39m\u001b[38;5;124m\"\u001b[39m: \u001b[38;5;241m7\u001b[39m,\n\u001b[1;32m     21\u001b[0m         \u001b[38;5;124m\"\u001b[39m\u001b[38;5;124mnormalization_strategy\u001b[39m\u001b[38;5;124m\"\u001b[39m: \u001b[38;5;124m\"\u001b[39m\u001b[38;5;124mpeak\u001b[39m\u001b[38;5;124m\"\u001b[39m,\n\u001b[1;32m     22\u001b[0m         \u001b[38;5;124m\"\u001b[39m\u001b[38;5;124mclassifier_free_guidance\u001b[39m\u001b[38;5;124m\"\u001b[39m: \u001b[38;5;241m3\u001b[39m\n\u001b[1;32m     23\u001b[0m       }\n\u001b[1;32m     24\u001b[0m     )\n\u001b[1;32m     25\u001b[0m     Audio(audio_output, rate\u001b[38;5;241m=\u001b[39m\u001b[38;5;241m22050\u001b[39m)\n\u001b[1;32m     27\u001b[0m     file_name \u001b[38;5;241m=\u001b[39m audio_file_name \u001b[38;5;241m+\u001b[39m \u001b[38;5;124m'\u001b[39m\u001b[38;5;124m.mp3\u001b[39m\u001b[38;5;124m'\u001b[39m\n",
      "File \u001b[0;32m~/anaconda3/lib/python3.11/site-packages/replicate/client.py:124\u001b[0m, in \u001b[0;36mClient.run\u001b[0;34m(self, model_version, **kwargs)\u001b[0m\n\u001b[1;32m    121\u001b[0m name \u001b[38;5;241m=\u001b[39m match\u001b[38;5;241m.\u001b[39mgroup(\u001b[38;5;124m\"\u001b[39m\u001b[38;5;124mname\u001b[39m\u001b[38;5;124m\"\u001b[39m)\n\u001b[1;32m    122\u001b[0m version_id \u001b[38;5;241m=\u001b[39m match\u001b[38;5;241m.\u001b[39mgroup(\u001b[38;5;124m\"\u001b[39m\u001b[38;5;124mversion\u001b[39m\u001b[38;5;124m\"\u001b[39m)\n\u001b[0;32m--> 124\u001b[0m prediction \u001b[38;5;241m=\u001b[39m \u001b[38;5;28mself\u001b[39m\u001b[38;5;241m.\u001b[39mpredictions\u001b[38;5;241m.\u001b[39mcreate(version\u001b[38;5;241m=\u001b[39mversion_id, \u001b[38;5;241m*\u001b[39m\u001b[38;5;241m*\u001b[39mkwargs)\n\u001b[1;32m    126\u001b[0m \u001b[38;5;28;01mif\u001b[39;00m owner \u001b[38;5;129;01mand\u001b[39;00m name:\n\u001b[1;32m    127\u001b[0m     \u001b[38;5;66;03m# FIXME: There should be a method for fetching a version without first fetching its model\u001b[39;00m\n\u001b[1;32m    128\u001b[0m     resp \u001b[38;5;241m=\u001b[39m \u001b[38;5;28mself\u001b[39m\u001b[38;5;241m.\u001b[39m_request(\n\u001b[1;32m    129\u001b[0m         \u001b[38;5;124m\"\u001b[39m\u001b[38;5;124mGET\u001b[39m\u001b[38;5;124m\"\u001b[39m, \u001b[38;5;124mf\u001b[39m\u001b[38;5;124m\"\u001b[39m\u001b[38;5;124m/v1/models/\u001b[39m\u001b[38;5;132;01m{\u001b[39;00mowner\u001b[38;5;132;01m}\u001b[39;00m\u001b[38;5;124m/\u001b[39m\u001b[38;5;132;01m{\u001b[39;00mname\u001b[38;5;132;01m}\u001b[39;00m\u001b[38;5;124m/versions/\u001b[39m\u001b[38;5;132;01m{\u001b[39;00mversion_id\u001b[38;5;132;01m}\u001b[39;00m\u001b[38;5;124m\"\u001b[39m\n\u001b[1;32m    130\u001b[0m     )\n",
      "File \u001b[0;32m~/anaconda3/lib/python3.11/site-packages/replicate/prediction.py:210\u001b[0m, in \u001b[0;36mPredictionCollection.create\u001b[0;34m(self, version, input, webhook, webhook_completed, webhook_events_filter, stream, **kwargs)\u001b[0m\n\u001b[1;32m    207\u001b[0m \u001b[38;5;28;01mif\u001b[39;00m stream \u001b[38;5;129;01mis\u001b[39;00m \u001b[38;5;28;01mTrue\u001b[39;00m:\n\u001b[1;32m    208\u001b[0m     body[\u001b[38;5;124m\"\u001b[39m\u001b[38;5;124mstream\u001b[39m\u001b[38;5;124m\"\u001b[39m] \u001b[38;5;241m=\u001b[39m \u001b[38;5;28;01mTrue\u001b[39;00m\n\u001b[0;32m--> 210\u001b[0m resp \u001b[38;5;241m=\u001b[39m \u001b[38;5;28mself\u001b[39m\u001b[38;5;241m.\u001b[39m_client\u001b[38;5;241m.\u001b[39m_request(\n\u001b[1;32m    211\u001b[0m     \u001b[38;5;124m\"\u001b[39m\u001b[38;5;124mPOST\u001b[39m\u001b[38;5;124m\"\u001b[39m,\n\u001b[1;32m    212\u001b[0m     \u001b[38;5;124m\"\u001b[39m\u001b[38;5;124m/v1/predictions\u001b[39m\u001b[38;5;124m\"\u001b[39m,\n\u001b[1;32m    213\u001b[0m     json\u001b[38;5;241m=\u001b[39mbody,\n\u001b[1;32m    214\u001b[0m )\n\u001b[1;32m    215\u001b[0m obj \u001b[38;5;241m=\u001b[39m resp\u001b[38;5;241m.\u001b[39mjson()\n\u001b[1;32m    216\u001b[0m \u001b[38;5;28;01mif\u001b[39;00m \u001b[38;5;28misinstance\u001b[39m(version, Version):\n",
      "File \u001b[0;32m~/anaconda3/lib/python3.11/site-packages/replicate/client.py:81\u001b[0m, in \u001b[0;36mClient._request\u001b[0;34m(self, method, path, **kwargs)\u001b[0m\n\u001b[1;32m     78\u001b[0m resp \u001b[38;5;241m=\u001b[39m \u001b[38;5;28mself\u001b[39m\u001b[38;5;241m.\u001b[39m_client\u001b[38;5;241m.\u001b[39mrequest(method, path, \u001b[38;5;241m*\u001b[39m\u001b[38;5;241m*\u001b[39mkwargs)\n\u001b[1;32m     80\u001b[0m \u001b[38;5;28;01mif\u001b[39;00m \u001b[38;5;241m400\u001b[39m \u001b[38;5;241m<\u001b[39m\u001b[38;5;241m=\u001b[39m resp\u001b[38;5;241m.\u001b[39mstatus_code \u001b[38;5;241m<\u001b[39m \u001b[38;5;241m600\u001b[39m:\n\u001b[0;32m---> 81\u001b[0m     \u001b[38;5;28;01mraise\u001b[39;00m ReplicateError(resp\u001b[38;5;241m.\u001b[39mjson()[\u001b[38;5;124m\"\u001b[39m\u001b[38;5;124mdetail\u001b[39m\u001b[38;5;124m\"\u001b[39m])\n\u001b[1;32m     83\u001b[0m \u001b[38;5;28;01mreturn\u001b[39;00m resp\n",
      "\u001b[0;31mReplicateError\u001b[0m: You have reached the free time limit. To continue using Replicate, set up billing at https://replicate.com/account/billing#billing."
     ]
    },
    {
     "name": "stdout",
     "output_type": "stream",
     "text": [
      "time: 5min 27s (started: 2024-01-17 18:30:25 -08:00)\n"
     ]
    }
   ],
   "source": [
    "replicate = replicate.Client(api_token=\"r8_QwJg65myol6cBI3v8zJ5bxx27MLw19Y32vsPv\")\n",
    "version = \"meta/musicgen:7a76a8258b23fae65c5a22debb8841d1d7e816b75c2f24218cd2bd8573787906\"\n",
    "\n",
    "prompt = \"Generate random melodies.\"\n",
    "\n",
    "for audio_file_name in audio_file_names:\n",
    "    duration = random.randint(5, 30)\n",
    "    audio_output = replicate.run(version,\n",
    "      input={\n",
    "        \"seed\": 3442726813,\n",
    "        \"top_k\": 250,\n",
    "        \"top_p\": 0,\n",
    "        \"prompt\": prompt,\n",
    "        \"duration\": duration,\n",
    "        \"temperature\": 1,\n",
    "        \"continuation\": False,\n",
    "        \"model_version\": \"large\",\n",
    "        \"output_format\": \"wav\",\n",
    "        \"continuation_end\": 9,\n",
    "        \"continuation_start\": 7,\n",
    "        \"normalization_strategy\": \"peak\",\n",
    "        \"classifier_free_guidance\": 3\n",
    "      }\n",
    "    )\n",
    "    Audio(audio_output, rate=22050)\n",
    "    \n",
    "    file_name = audio_file_name + '.m4a'\n",
    "\n",
    "    with open(f'''audio/{file_name}''', 'wb') as f:\n",
    "        f.write(Audio(audio_output, rate=22050).data)"
   ]
  },
  {
   "cell_type": "markdown",
   "id": "34a92827-b960-4e1b-b71a-81c471f80bc7",
   "metadata": {},
   "source": [
    "### Video Generation\n",
    "\n",
    "TODO: Takes too long and generates outputs that are too short (few seconds long)"
   ]
  },
  {
   "cell_type": "code",
   "execution_count": 45,
   "id": "6faac092-73e1-4685-b54d-f8d070bcf0e9",
   "metadata": {},
   "outputs": [
    {
     "name": "stdout",
     "output_type": "stream",
     "text": [
      "https://replicate.delivery/pbxt/8fqqAt0gkK1uHazk2AqCtOA2lDyS5X8Rqhi8kOqQfdoEvn0RA/out.mp4\n"
     ]
    }
   ],
   "source": [
    "output = replicate.run(\n",
    "    model_version=\"cjwbw/damo-text-to-video:1e205ea73084bd17a0a3b43396e49ba0d6bc2e754e9283b2df49fad2dcf95755\",\n",
    "    input={\"prompt\": \"A dog barking at a cat\"}\n",
    ")\n",
    "print(output)"
   ]
  },
  {
   "cell_type": "markdown",
   "id": "3bbca046-7756-4113-b297-c5955649a1b6",
   "metadata": {},
   "source": [
    "### Next steps..."
   ]
  },
  {
   "cell_type": "markdown",
   "id": "2562ff18-74b4-49cb-a2c0-191ad980329c",
   "metadata": {},
   "source": [
    "Checkout Google Colab notebook for other examples and other ways to call the Replicate API: https://colab.research.google.com/drive/1vikWMj8GihG95pEEMZze9sQW8K7BqDPl#scrollTo=v0SlZt3Otx6Q"
   ]
  },
  {
   "cell_type": "markdown",
   "id": "3b7308ab-bcac-492e-9247-f50dbbe50b8c",
   "metadata": {},
   "source": [
    "Checkout other things you can do with Replicate API: https://replicate.com/explore"
   ]
  },
  {
   "cell_type": "code",
   "execution_count": null,
   "id": "bcf7c3db-6cd7-4056-bb14-89f6bc28e128",
   "metadata": {},
   "outputs": [],
   "source": []
  }
 ],
 "metadata": {
  "kernelspec": {
   "display_name": "Python 3 (ipykernel)",
   "language": "python",
   "name": "python3"
  },
  "language_info": {
   "codemirror_mode": {
    "name": "ipython",
    "version": 3
   },
   "file_extension": ".py",
   "mimetype": "text/x-python",
   "name": "python",
   "nbconvert_exporter": "python",
   "pygments_lexer": "ipython3",
   "version": "3.11.5"
  }
 },
 "nbformat": 4,
 "nbformat_minor": 5
}
